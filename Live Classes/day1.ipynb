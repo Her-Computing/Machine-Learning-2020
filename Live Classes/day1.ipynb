{
 "cells": [
  {
   "cell_type": "code",
   "execution_count": 1,
   "metadata": {},
   "outputs": [
    {
     "name": "stdout",
     "output_type": "stream",
     "text": [
      "hello world\n"
     ]
    }
   ],
   "source": [
    "print(\"hello world\")\n"
   ]
  },
  {
   "cell_type": "code",
   "execution_count": 2,
   "metadata": {},
   "outputs": [
    {
     "name": "stdout",
     "output_type": "stream",
     "text": [
      "166375\n"
     ]
    }
   ],
   "source": [
    "x = 55\n",
    "print (x ** 3)"
   ]
  },
  {
   "cell_type": "code",
   "execution_count": 5,
   "metadata": {},
   "outputs": [
    {
     "name": "stdout",
     "output_type": "stream",
     "text": [
      "11.0\n"
     ]
    }
   ],
   "source": [
    "x = 55\n",
    "x /= 5\n",
    "print(x)"
   ]
  },
  {
   "cell_type": "code",
   "execution_count": 7,
   "metadata": {},
   "outputs": [
    {
     "name": "stdout",
     "output_type": "stream",
     "text": [
      "5\n"
     ]
    }
   ],
   "source": [
    "array = [1, 2, 3, 4, 5, 6, 7, 8, 9]\n",
    "zeroth_index = array[4]\n",
    "print(zeroth_index)"
   ]
  },
  {
   "cell_type": "code",
   "execution_count": 10,
   "metadata": {},
   "outputs": [
    {
     "name": "stdout",
     "output_type": "stream",
     "text": [
      "Name:  Tanish\n",
      "Age:  15\n"
     ]
    }
   ],
   "source": [
    "def test(name, age):\n",
    "    print(\"Name: \", name)\n",
    "    print(\"Age: \", age)\n",
    "\n",
    "test(\"Tanish\", 15)"
   ]
  },
  {
   "cell_type": "code",
   "execution_count": 12,
   "metadata": {},
   "outputs": [
    {
     "name": "stdout",
     "output_type": "stream",
     "text": [
      "9\n"
     ]
    }
   ],
   "source": [
    "length = len(array)\n",
    "print(length)"
   ]
  },
  {
   "cell_type": "code",
   "execution_count": 13,
   "metadata": {},
   "outputs": [
    {
     "name": "stdout",
     "output_type": "stream",
     "text": [
      "[1, 2, 3, 4, 5, 6, 7, 8, 9, 3]\n"
     ]
    }
   ],
   "source": [
    "#editing arrays\n",
    "array.append(3)\n",
    "print(array)"
   ]
  },
  {
   "cell_type": "code",
   "execution_count": 14,
   "metadata": {},
   "outputs": [
    {
     "name": "stdout",
     "output_type": "stream",
     "text": [
      "[1, 2, 3, 4, 5, 6, 7, 8, 9]\n"
     ]
    }
   ],
   "source": [
    "#removes certain element of the array\n",
    "array.pop(9)\n",
    "print(array)"
   ]
  },
  {
   "cell_type": "code",
   "execution_count": 15,
   "metadata": {},
   "outputs": [
    {
     "name": "stdout",
     "output_type": "stream",
     "text": [
      "[2, 3, 4, 5, 6, 7, 8, 9]\n"
     ]
    }
   ],
   "source": [
    "#removes certain value of the array\n",
    "array.remove(1)\n",
    "print(array)"
   ]
  },
  {
   "cell_type": "code",
   "execution_count": 18,
   "metadata": {
    "scrolled": true
   },
   "outputs": [
    {
     "name": "stdout",
     "output_type": "stream",
     "text": [
      "[1, 2, 3, 4, 5, 6]\n"
     ]
    }
   ],
   "source": [
    "def function_example(array):\n",
    "    return array \n",
    "print(function_example([1,2,3,4,5,6]))"
   ]
  },
  {
   "cell_type": "code",
   "execution_count": 19,
   "metadata": {},
   "outputs": [
    {
     "name": "stdout",
     "output_type": "stream",
     "text": [
      "old\n"
     ]
    }
   ],
   "source": [
    "age = 16\n",
    "if age == 15:\n",
    "    print(\"true\")\n",
    "elif age > 15:\n",
    "    print(\"old\")\n",
    "else:\n",
    "    print(\"false\")"
   ]
  },
  {
   "cell_type": "code",
   "execution_count": 21,
   "metadata": {},
   "outputs": [
    {
     "name": "stdout",
     "output_type": "stream",
     "text": [
      "0\n",
      "1\n",
      "2\n",
      "3\n",
      "4\n"
     ]
    }
   ],
   "source": [
    "# PROBLEM: set var age = _________. If age < 18 and age > 0. print(\"too young\"). age >= 18 \n",
    "# and age < 65 print(\"can live by yourself\"). age > 65 print(\"too old to live by yourself\")\n",
    "\n",
    "for i in range(5):\n",
    "    print(i)\n"
   ]
  },
  {
   "cell_type": "code",
   "execution_count": null,
   "metadata": {},
   "outputs": [],
   "source": [
    "'''\n",
    "PROBLEM: create a function\n",
    "input --> an array of numbers : positive and negative values\n",
    "output --> number of positive and number of negative numbers in the array\n",
    "'''\n",
    "\n",
    "def calc_nums(array):\n",
    "    length = len(array)\n",
    "    \n",
    "    for i in range(length):\n",
    "        if array[i] > 0:\n",
    "            pos_count += 1\n",
    "        else:\n",
    "            neg_count += 1\n",
    "    \n",
    "    print(___)\n",
    "    print(___)\n",
    "\n",
    "test_array = [1,2,3,4,5]\n",
    "calc_nums(test_array)\n",
    "\n"
   ]
  },
  {
   "cell_type": "code",
   "execution_count": 22,
   "metadata": {},
   "outputs": [
    {
     "data": {
      "text/plain": [
       "'\\nPROBLEM: create function that inputs an array\\ncheck to see if the first and last elements in the array are equal\\nif they are equal, return True\\nif they are not equal return False\\n'"
      ]
     },
     "execution_count": 22,
     "metadata": {},
     "output_type": "execute_result"
    }
   ],
   "source": [
    "'''\n",
    "PROBLEM: create function that inputs an array\n",
    "check to see if the first and last elements in the array are equal\n",
    "if they are equal, return True\n",
    "if they are not equal return False\n",
    "'''"
   ]
  },
  {
   "cell_type": "code",
   "execution_count": 33,
   "metadata": {},
   "outputs": [
    {
     "name": "stdout",
     "output_type": "stream",
     "text": [
      "3\n",
      "['5', '5', '5', '5']\n"
     ]
    }
   ],
   "source": [
    "x = \"3.00\"\n",
    "print(int(float(x)))\n",
    "\n",
    "cast_int = 5555\n",
    "print(list(str(cast_int)))"
   ]
  },
  {
   "cell_type": "code",
   "execution_count": 1,
   "metadata": {},
   "outputs": [
    {
     "name": "stdout",
     "output_type": "stream",
     "text": [
      "5\n",
      "4\n",
      "3\n",
      "2\n",
      "1\n"
     ]
    }
   ],
   "source": [
    "# first parameter - starting value for i\n",
    "# second parameter - variable is going to reach before breaking out of loop\n",
    "# third parameter - step: how i is going to change at the end of every iteration\n",
    "\n",
    "for i in range(l, 0, 1):\n",
    "    print(i)"
   ]
  },
  {
   "cell_type": "code",
   "execution_count": 2,
   "metadata": {},
   "outputs": [
    {
     "name": "stdout",
     "output_type": "stream",
     "text": [
      "['1', '2', '3', '4']\n"
     ]
    }
   ],
   "source": [
    "'''\n",
    "PROBLEM: REVERSE number in python\n",
    "create function that accepts an integer as the parameter\n",
    "input - an integer\n",
    "output - reverse of that integer\n",
    "\n",
    "1234 --> 4321\n",
    "\n",
    "reverse_num --> keeps track of the reversed number\n",
    "relationship btwn. length of an array and the index of the largest number\n",
    "for loop \n",
    "need some casting\n",
    "'''\n",
    "\n",
    "def reverse_num(num):\n",
    "    num_Array = list(str(num))\n",
    "    print(num_Array)\n",
    "    \n",
    "    \n",
    "\n",
    "reverse_num(1234)"
   ]
  },
  {
   "cell_type": "code",
   "execution_count": 4,
   "metadata": {},
   "outputs": [
    {
     "ename": "TypeError",
     "evalue": "can only concatenate str (not \"int\") to str",
     "output_type": "error",
     "traceback": [
      "\u001b[1;31m---------------------------------------------------------------------------\u001b[0m",
      "\u001b[1;31mTypeError\u001b[0m                                 Traceback (most recent call last)",
      "\u001b[1;32m<ipython-input-4-d1113262dd27>\u001b[0m in \u001b[0;36m<module>\u001b[1;34m\u001b[0m\n\u001b[0;32m      3\u001b[0m \u001b[0mreverse_number\u001b[0m \u001b[1;33m=\u001b[0m \u001b[1;34m\"\"\u001b[0m\u001b[1;33m\u001b[0m\u001b[1;33m\u001b[0m\u001b[0m\n\u001b[0;32m      4\u001b[0m \u001b[1;32mfor\u001b[0m \u001b[0mi\u001b[0m \u001b[1;32min\u001b[0m \u001b[0mrange\u001b[0m\u001b[1;33m(\u001b[0m\u001b[0mlength_arrarary\u001b[0m \u001b[1;33m-\u001b[0m \u001b[1;36m1\u001b[0m\u001b[1;33m,\u001b[0m \u001b[1;36m0\u001b[0m\u001b[1;33m,\u001b[0m \u001b[1;33m-\u001b[0m\u001b[1;36m1\u001b[0m\u001b[1;33m)\u001b[0m\u001b[1;33m:\u001b[0m\u001b[1;33m\u001b[0m\u001b[1;33m\u001b[0m\u001b[0m\n\u001b[1;32m----> 5\u001b[1;33m     \u001b[0mreverse_number\u001b[0m \u001b[1;33m+=\u001b[0m \u001b[0marrraaay\u001b[0m\u001b[1;33m[\u001b[0m\u001b[0mi\u001b[0m\u001b[1;33m]\u001b[0m\u001b[1;33m\u001b[0m\u001b[1;33m\u001b[0m\u001b[0m\n\u001b[0m",
      "\u001b[1;31mTypeError\u001b[0m: can only concatenate str (not \"int\") to str"
     ]
    }
   ],
   "source": []
  },
  {
   "cell_type": "code",
   "execution_count": 8,
   "metadata": {},
   "outputs": [
    {
     "data": {
      "text/plain": [
       "4321"
      ]
     },
     "execution_count": 8,
     "metadata": {},
     "output_type": "execute_result"
    }
   ],
   "source": [
    "def reverse(number):\n",
    "    array = list(str(number))\n",
    "    reverse = \"\"\n",
    "    \n",
    "    for i in range(len(array), 0, -1):\n",
    "        reverse += array[i-1]\n",
    "    \n",
    "    return int(reverse)\n",
    "reverse(1234)\n",
    "    \n",
    "    \n",
    "    \n"
   ]
  },
  {
   "cell_type": "code",
   "execution_count": null,
   "metadata": {},
   "outputs": [],
   "source": [
    "def reverse(number):\n",
    "    array = list(str(number))\n",
    "    reverse_num = \"\"\n",
    "    \n",
    "    for i in range(len(array), 0, -1):\n",
    "        reverse_num += array[i - 1]\n",
    "    return int(reverse_num)\n",
    "\n",
    "reverse(1234)\n",
    "\n",
    "\n"
   ]
  },
  {
   "cell_type": "code",
   "execution_count": null,
   "metadata": {},
   "outputs": [],
   "source": [
    "def reverse(num):\n",
    "    array = list(str(num))\n",
    "    length = len(array)\n",
    "    reverse = \"\"\n",
    "\n",
    "    for i in range(length, 0, -1):\n",
    "        reverse += array[i-1]\n",
    "    \n",
    "    return int(reverse)\n",
    "\n",
    "reverse(12456789)\n",
    "\n"
   ]
  },
  {
   "cell_type": "code",
   "execution_count": null,
   "metadata": {},
   "outputs": [],
   "source": [
    "num = 123456789\n",
    "\n",
    "def reverser(number):\n",
    "    casted = list(str(number))\n",
    "    length = len(casted)\n",
    "    rev_num = \"\"\n",
    "\n",
    "    for i in range(length-1, -1, -1):\n",
    "        rev_num += casted[i]\n",
    "    \n",
    "    return int(rev_num)\n",
    "\n",
    "print(reverser(num))\n"
   ]
  },
  {
   "cell_type": "code",
   "execution_count": null,
   "metadata": {},
   "outputs": [],
   "source": [
    "print('hello worldd')"
   ]
  },
  {
   "cell_type": "code",
   "execution_count": null,
   "metadata": {},
   "outputs": [],
   "source": []
  }
 ],
 "metadata": {
  "kernelspec": {
   "display_name": "Python 3",
   "language": "python",
   "name": "python3"
  },
  "language_info": {
   "codemirror_mode": {
    "name": "ipython",
    "version": 3
   },
   "file_extension": ".py",
   "mimetype": "text/x-python",
   "name": "python",
   "nbconvert_exporter": "python",
   "pygments_lexer": "ipython3",
   "version": "3.7.3"
  }
 },
 "nbformat": 4,
 "nbformat_minor": 2
}
